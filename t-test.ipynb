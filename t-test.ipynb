{
 "cells": [
  {
   "cell_type": "code",
   "execution_count": 3,
   "source": [
    "import numpy as np\r\n",
    "import scipy.stats as stats\r\n",
    "import math"
   ],
   "outputs": [],
   "metadata": {}
  },
  {
   "cell_type": "code",
   "execution_count": 4,
   "source": [
    "Systolic_BP =[128,127,118,115,142,144,133,140,132,131,111,132,149,122,139,119,136,129,126,128,127,128,126,128,127,128,126,129,120,126,120,128]"
   ],
   "outputs": [],
   "metadata": {}
  },
  {
   "cell_type": "code",
   "execution_count": 5,
   "source": [
    "n = 32\r\n",
    "u = 120\r\n",
    "alpha = 0.05\r\n",
    "sample_mean = np.mean(Systolic_BP)\r\n",
    "sample_std = np.std(Systolic_BP)"
   ],
   "outputs": [],
   "metadata": {}
  },
  {
   "cell_type": "code",
   "execution_count": 6,
   "source": [
    "print(sample_mean)\r\n",
    "print(sample_std)"
   ],
   "outputs": [
    {
     "output_type": "stream",
     "name": "stdout",
     "text": [
      "128.5625\n",
      "8.104541550883678\n"
     ]
    }
   ],
   "metadata": {}
  },
  {
   "cell_type": "code",
   "execution_count": 10,
   "source": [
    "#possible tails \"left tail\" , \"right tail\" and \"two tail\"\r\n",
    "tail_hypothesis_type = \"two tail\"\r\n",
    "if tail_hypothesis_type == \"two tail\":\r\n",
    "    alpha /=2\r\n",
    "\r\n",
    "print(\"one sample \" , tail_hypothesis_type , \"z test of true mean\")\r\n",
    "print(\"----------------------------------------------------------------\")\r\n",
    "\r\n",
    "#p value apporoach \r\n",
    "print(\"apporoach 1 : p value apporoach to hypothesis testings\")\r\n",
    "print(\"----------------------------------------------------------------\")\r\n",
    "\r\n",
    "if n>= 30:\r\n",
    "    print(\"since the size is greater then 30 by CLT\")\r\n",
    "    z_score = (sample_mean - u) / (sample_std / math.sqrt(n))\r\n",
    "    if tail_hypothesis_type ==\"left tail\":\r\n",
    "        p_value = stats.norm.cdf(z_score)\r\n",
    "    elif tail_hypothesis_type ==\"right tail\":\r\n",
    "        p_value = 1 - stats.norm.cdf(z_score)\r\n",
    "    else:\r\n",
    "        z_score = abs(z_score)\r\n",
    "        p_value = 1 - stats.norm.cdf(z_score)\r\n",
    "    \r\n",
    "    conclusion = \"do not reject null hypothesis\"\r\n",
    "    if p_value <= alpha:\r\n",
    "        conclusion = \"reject the null hypothesis\"\r\n",
    "    print(\"the z score is \", z_score , \"and p value is \" ,p_value ,\"and therefore we \")\r\n",
    "    print(conclusion)\r\n",
    "else:\r\n",
    "    print(\"CLT is not satisfied\")"
   ],
   "outputs": [
    {
     "output_type": "stream",
     "name": "stdout",
     "text": [
      "one sample  two tail z test of true mean\n",
      "----------------------------------------------------------------\n",
      "apporoach 1 : p value apporoach to hypothesis testings\n",
      "----------------------------------------------------------------\n",
      "since the size is greater then 30 by CLT\n",
      "the z score is  5.976502706189125 and p value is  1.1398938459805663e-09 and therefore we \n",
      "reject the null hypothesis\n"
     ]
    }
   ],
   "metadata": {}
  },
  {
   "cell_type": "code",
   "execution_count": 11,
   "source": [
    "print(\"apporoach 2 : critical value apporoach to test hypothesis\")\r\n",
    "print(\"------------------------------------------------------------\")\r\n",
    "\r\n",
    "if n >= 30 :\r\n",
    "    print(\"since the sample size is greater then 30 by CLT\")\r\n",
    "    z_score = (sample_mean - u) / (sample_std / math.sqrt(n))\r\n",
    "    critical_value = stats.norm.ppf(abs(alpha))\r\n",
    "    \r\n",
    "    conclusion = \"do not reject the null hypothesis\"\r\n",
    "    if tail_hypothesis_type == \"left tail\":\r\n",
    "        if z_score < critical_value:\r\n",
    "            conclusion = \"reject the null hypothesis\"\r\n",
    "    elif tail_hypothesis_type == \"right tail\":\r\n",
    "        critical_value = abs(critical_value)\r\n",
    "        if critical_value < z_score:\r\n",
    "            conclusion = \"reject the null hypothesis\"\r\n",
    "    else:\r\n",
    "        z_score = abs(z_score)\r\n",
    "        critical_value = abs(critical_value)\r\n",
    "        if z_score > critical_value :\r\n",
    "            conclusion = \"reject the null hypothesis\"\r\n",
    "            \r\n",
    "        print(\"the z score is \" , z_score , \" and critical value is \" , critical_value, \"therefore we \")\r\n",
    "        print(conclusion)\r\n",
    "else:\r\n",
    "    print(\"CLT is not satisfied\")\r\n",
    "        "
   ],
   "outputs": [
    {
     "output_type": "stream",
     "name": "stdout",
     "text": [
      "apporoach 2 : critical value apporoach to test hypothesis\n",
      "------------------------------------------------------------\n",
      "since the sample size is greater then 30 by CLT\n",
      "the z score is  5.976502706189125  and critical value is  2.241402727604945 therefore we \n",
      "reject the null hypothesis\n"
     ]
    }
   ],
   "metadata": {}
  },
  {
   "cell_type": "code",
   "execution_count": null,
   "source": [],
   "outputs": [],
   "metadata": {}
  }
 ],
 "metadata": {
  "orig_nbformat": 4,
  "language_info": {
   "name": "python",
   "version": "3.9.7",
   "mimetype": "text/x-python",
   "codemirror_mode": {
    "name": "ipython",
    "version": 3
   },
   "pygments_lexer": "ipython3",
   "nbconvert_exporter": "python",
   "file_extension": ".py"
  },
  "kernelspec": {
   "name": "python3",
   "display_name": "Python 3.9.7 64-bit ('venv': venv)"
  },
  "interpreter": {
   "hash": "5ad4fa0d9636875c325059e0053d3685adaf820a7a3999b84098d91186f93b86"
  }
 },
 "nbformat": 4,
 "nbformat_minor": 2
}